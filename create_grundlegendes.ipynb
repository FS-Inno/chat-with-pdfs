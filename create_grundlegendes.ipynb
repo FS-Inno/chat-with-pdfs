{
 "cells": [
  {
   "cell_type": "code",
   "execution_count": 50,
   "metadata": {},
   "outputs": [],
   "source": [
    "from dotenv import load_dotenv\n",
    "from langchain.text_splitter import RecursiveCharacterTextSplitter\n",
    "from langchain.embeddings import OpenAIEmbeddings\n",
    "from langchain.vectorstores import FAISS\n",
    "from langchain.chat_models import ChatOpenAI\n",
    "from langchain.chains.qa_with_sources.retrieval import RetrievalQAWithSourcesChain\n",
    "from langchain.prompts import PromptTemplate\n",
    "\n",
    "from langchain.output_parsers import StructuredOutputParser, ResponseSchema\n",
    "\n",
    "\n",
    "from langchain_community.document_loaders import PyMuPDFLoader\n"
   ]
  },
  {
   "cell_type": "markdown",
   "metadata": {},
   "source": [
    "## Definition der LLMS"
   ]
  },
  {
   "cell_type": "code",
   "execution_count": 2,
   "metadata": {},
   "outputs": [],
   "source": [
    "gpt_model = 'gpt-4-1106-preview'\n",
    "embedding_model = 'text-embedding-3-small'"
   ]
  },
  {
   "cell_type": "code",
   "execution_count": 32,
   "metadata": {},
   "outputs": [],
   "source": [
    "llm = ChatOpenAI(temperature=0, model_name=gpt_model)\n",
    "embeddings = OpenAIEmbeddings()#(model=embedding_model) "
   ]
  },
  {
   "cell_type": "markdown",
   "metadata": {},
   "source": [
    "## Loader Experimente"
   ]
  },
  {
   "cell_type": "code",
   "execution_count": 46,
   "metadata": {},
   "outputs": [],
   "source": [
    "pdf_file = \"grundlegendes/AS_611008_template.pdf\"\n",
    "pdf_file2 = \"grundlegendes/AS_461006_template 1.pdf\""
   ]
  },
  {
   "cell_type": "code",
   "execution_count": 47,
   "metadata": {},
   "outputs": [
    {
     "data": {
      "text/plain": [
       "' \\nAnmeldung zum Kindergarten, zur Schulkindbetreuung, Tagesstätte /\\nÜbermittagbetreuung, Blocköffnungszeit, kleinen altersgemischten\\nGruppe\\n \\nGrundlegende Fragen zum Anmeldung\\nBitte machen Sie mindestens eine Angabe.\\nzum Kindergarten\\nzur Schulkinderbetreuung\\nzur Tagesstätte / Übermittagbetreuung\\nzur Blocköffnungszeit\\nzur kleinen altersgemischten Gruppe\\nab Datum\\nHaben Sie Interesse, im Elternbeirat mitzuarbeiten?\\nja\\nnein\\nDürfen wir Ihre Telefonnummer in der Kindergartenliste veröffentlichen?\\nja\\nnein\\nDürfen wir das Kind fotografieren / filmen?\\nja\\nnein\\nKönnen Sie angaben zum Hausarzt des Kindes machen?\\nja\\nnein\\nAntragstellende Person\\nAnrede\\nFrau\\nHerr\\nPerson\\nVornamen\\nFamilienname\\nGegebenenfalls Geburtsname\\nWohnanschrift\\nStaat\\nPostleitzahl\\nOrt\\nStraße\\nHausnummer\\nKontaktdaten\\nTelefon (Mobil)\\nTelefon (Festnetz oder Mobil)\\nE-Mail\\nSeite 1 von 7\\nPDF erstellt mit: www.form-solutions.de\\nArtikel-Nr.: AS_461006\\n'"
      ]
     },
     "execution_count": 47,
     "metadata": {},
     "output_type": "execute_result"
    }
   ],
   "source": [
    "pdfloader = PyMuPDFLoader(pdf_file2)\n",
    "data = pdfloader.load()\n",
    "\n",
    "antrag= data[0].page_content\n",
    "\n",
    "antrag"
   ]
  },
  {
   "cell_type": "markdown",
   "metadata": {},
   "source": [
    "## PromptTemplate und ResponseSchema"
   ]
  },
  {
   "cell_type": "code",
   "execution_count": 49,
   "metadata": {},
   "outputs": [
    {
     "data": {
      "text/plain": [
       "{'grundlegende_Angaben': 'Bitte wählen Sie mindestens eine der folgenden Optionen aus: zum Kindergarten, zur Schulkinderbetreuung, zur Tagesstätte / Übermittagbetreuung, zur Blocköffnungszeit, zur kleinen altersgemischten Gruppe. Geben Sie das Datum an, ab wann die Anmeldung gelten soll. Entscheiden Sie, ob Sie im Elternbeirat mitarbeiten möchten, ob Ihre Telefonnummer veröffentlicht werden darf, ob das Kind fotografiert / gefilmt werden darf und ob Sie Angaben zum Hausarzt des Kindes machen können. Füllen Sie die persönlichen Daten der antragstellenden Person aus, inklusive Anrede, Vornamen, Familienname, gegebenenfalls Geburtsname, Wohnanschrift (Staat, Postleitzahl, Ort, Straße, Hausnummer) und Kontaktdaten (Telefon Mobil, Telefon Festnetz oder Mobil, E-Mail).',\n",
       " 'erforderliche_Unterlagen': 'Das Formular gibt keine spezifischen Informationen über erforderliche Unterlagen, Anhänge oder Nachweise, die mit dem Formular abgegeben werden müssen oder können.'}"
      ]
     },
     "execution_count": 49,
     "metadata": {},
     "output_type": "execute_result"
    }
   ],
   "source": [
    "template = \"\"\"Sie sind ein hilfsbereiter, respektvoller und ehrlicher Assistent, der Online-Formulare den Benutzern erklärt. Antworten Sie immer so hilfreich wie möglich und gleichzeitig sicher auf Deutsch. Wenn Sie keine Antwort wissen, versuchen Sie nicht eine Antwort zu erfinden.\n",
    "    Befolge die folgenden 3 Schritte:\n",
    "    1. Lies das Formular unten.\n",
    "    2. Beantworte die Frage mit Hilfe der Informationen aus dem Formular auf Deutsch, benutze kein Englisch.\n",
    "    3. Verwende nur Informationen aus dem Formular.\n",
    "    \n",
    "    Gebe mir bitte Ausfüllhinweise für das Formular.\n",
    "\n",
    "    Formular : {context}\n",
    "      \n",
    "    \n",
    "    Ausgabeformat: {format_instructions}\"\"\"\n",
    "   \n",
    "\n",
    "response_schemas = [\n",
    "    ResponseSchema(name=\"grundlegende_Angaben\", description=\"schreibe hier die grundlegenden Angaben, die in dem Formular gemacht werden müssen, rein.\"),\n",
    "    ResponseSchema(\n",
    "        name=\"erforderliche_Unterlagen\",\n",
    "        description=\"Hier werden die Unterlagen, Anhänge und Nachweise vermerkt, die mit dem Formular abgegeben werden müssen oder können.\",\n",
    "    ),\n",
    "]\n",
    "output_parser = StructuredOutputParser.from_response_schemas(response_schemas)\n",
    "format_instructions = output_parser.get_format_instructions()\n",
    "\n",
    "prompt = PromptTemplate(\n",
    "        input_variables=[\"context\"], \n",
    "        template = template,\n",
    "        partial_variables={\"format_instructions\": format_instructions},\n",
    "    )    \n",
    "\n",
    "chain = (\n",
    "    prompt |\n",
    "    llm |\n",
    "    output_parser\n",
    ")\n",
    "\n",
    "response = chain.invoke({\"context\": antrag})\n",
    "\n",
    "response"
   ]
  }
 ],
 "metadata": {
  "kernelspec": {
   "display_name": "venv",
   "language": "python",
   "name": "python3"
  },
  "language_info": {
   "codemirror_mode": {
    "name": "ipython",
    "version": 3
   },
   "file_extension": ".py",
   "mimetype": "text/x-python",
   "name": "python",
   "nbconvert_exporter": "python",
   "pygments_lexer": "ipython3",
   "version": "3.11.4"
  }
 },
 "nbformat": 4,
 "nbformat_minor": 2
}
